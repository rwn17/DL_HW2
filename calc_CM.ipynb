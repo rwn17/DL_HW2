{
 "metadata": {
  "language_info": {
   "codemirror_mode": {
    "name": "ipython",
    "version": 3
   },
   "file_extension": ".py",
   "mimetype": "text/x-python",
   "name": "python",
   "nbconvert_exporter": "python",
   "pygments_lexer": "ipython3",
   "version": "3.6.9"
  },
  "orig_nbformat": 2,
  "kernelspec": {
   "name": "pythonjvsc74a57bd0c24b5ba7928a3016540449a9bc51d16c3498096f885c1df616d19ead852836c3",
   "display_name": "Python 3.6.9  ('venv': venv)"
  },
  "metadata": {
   "interpreter": {
    "hash": "c24b5ba7928a3016540449a9bc51d16c3498096f885c1df616d19ead852836c3"
   }
  }
 },
 "nbformat": 4,
 "nbformat_minor": 2,
 "cells": [
  {
   "cell_type": "code",
   "execution_count": 20,
   "metadata": {},
   "outputs": [],
   "source": [
    "import torch\n",
    "import torch.nn as nn\n",
    "import torch.optim as optim\n",
    "import data\n",
    "import models\n",
    "import os\n",
    "import numpy as np\n",
    "from sklearn.manifold import TSNE\n",
    "import matplotlib.pyplot as plt\n",
    "from sklearn.metrics import confusion_matrix\n",
    "\n",
    "\n",
    "def valid(model, valid_loader,criterion):\n",
    "    model.train(False)\n",
    "    total_loss = 0.0\n",
    "    total_correct = 0\n",
    "    numpy_array = np.ones(2048,dtype='float32')\n",
    "    label_array = np.ones(1,dtype='int')\n",
    "    label_pred = np.ones(1,dtype='int')\n",
    "    for inputs, labels in valid_loader:\n",
    "        # stack X\n",
    "        inputs = inputs.to(device)\n",
    "        # this_numpy = myresnet.myforward(inputs).cpu().detach().numpy()\n",
    "        # this_numpy = this_numpy.reshape(1,-1)\n",
    "        # numpy_array = np.vstack([numpy_array,np.squeeze(this_numpy)])\n",
    "        # print('X shape is:', numpy_array.shape)\n",
    "        # stack y\n",
    "        this_label = labels.numpy()\n",
    "        label_array = np.vstack([label_array,(this_label)[:,None]])\n",
    "        labels = labels.to(device)\n",
    "        # calculate acc on valid set\n",
    "        outputs = model(inputs)\n",
    "        loss = criterion(outputs, labels)\n",
    "        _, predictions = torch.max(outputs, 1)\n",
    "        total_loss += loss.item() * inputs.size(0)\n",
    "        total_correct += torch.sum(predictions == labels.data)\n",
    "        # print(predictions)\n",
    "        label_pred = np.vstack([label_pred,(predictions.cpu().numpy())[:,None]])\n",
    "        # print(label_pred.shape)\n",
    "    epoch_loss = total_loss / len(valid_loader.dataset)\n",
    "    epoch_acc = total_correct.double() / len(valid_loader.dataset)\n",
    "    numpy_array = numpy_array[1:numpy_array.size]\n",
    "    label_array = label_array[1:label_array.size]\n",
    "    label_pred = label_pred[1:label_pred.size]\n",
    "    return epoch_loss, epoch_acc.item(), numpy_array, label_array, label_pred\n"
   ]
  },
  {
   "cell_type": "code",
   "execution_count": 5,
   "metadata": {
    "tags": []
   },
   "outputs": [
    {
     "output_type": "stream",
     "name": "stdout",
     "text": [
      "validation: 1.0658, 0.8006\nConfusion Matrix is : \n [[566   3   0   0   1   1   0   0   1   1]\n [  0 570   0   0   0   0   0   0   0   0]\n [ 11  12 559   1   1   0   4   3   0   0]\n [ 54   5   8 267  47   2  13  54  72   0]\n [  0   0   2   2 470   0   6  34   2   0]\n [128  60  18  10   0 109  34   6  64   0]\n [110   2  85   0  12   1 263  40   8   0]\n [  0   0   1   0   3   0   0 573   0   0]\n [ 51   7  16  13   3   1   3   4 409   0]\n [ 37   7   2   0   0   0   0   0  11 537]]\n"
     ]
    }
   ],
   "source": [
    "\n",
    "    model = torch.load('./models/best_modelC_myRenext18.pt')\n",
    "    data_dir = \"../hw2_dataset/\"\n",
    "    inupt_size = 224\n",
    "    batch_size = 36\n",
    "    device = torch.device(\"cuda:0\" if torch.cuda.is_available() else \"cpu\")\n",
    "    model = model.to(device)\n",
    "    # myresnet = CustomResnet(model)\n",
    "\n",
    "    criterion = nn.CrossEntropyLoss()\n",
    "    train_loader, valid_loader = data.load_data(data_dir=data_dir,input_size=inupt_size, batch_size=batch_size)\n",
    "    valid_loss, valid_acc, X, y, y_pred = valid(model, valid_loader,criterion)\n",
    "    print(\"validation: {:.4f}, {:.4f}\".format(valid_loss, valid_acc))\n",
    "    matrix = confusion_matrix(y.squeeze(1),y_pred.squeeze(1))\n",
    "    print('Confusion Matrix is : \\n {}'.format(matrix))\n",
    "\n",
    "\n",
    "    "
   ]
  }
 ]
}